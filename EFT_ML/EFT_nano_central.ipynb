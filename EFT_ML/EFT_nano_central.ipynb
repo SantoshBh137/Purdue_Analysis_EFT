{
 "cells": [
  {
   "cell_type": "code",
   "execution_count": 1,
   "id": "6639a170-97a0-4dd8-911a-2487a91f0aa0",
   "metadata": {},
   "outputs": [
    {
     "ename": "OSError",
     "evalue": "File did not open properly: [FATAL] Auth failed: No protocols left to try",
     "output_type": "error",
     "traceback": [
      "\u001b[0;31m---------------------------------------------------------------------------\u001b[0m",
      "\u001b[0;31mOSError\u001b[0m                                   Traceback (most recent call last)",
      "Cell \u001b[0;32mIn[1], line 4\u001b[0m\n\u001b[1;32m      2\u001b[0m file\u001b[38;5;241m=\u001b[39muproot\u001b[38;5;241m.\u001b[39mopen(\u001b[38;5;124m'\u001b[39m\u001b[38;5;124m/eos/purdue/store/user/lingqian/minitrees2016preVFP/spinCorrInput_2016preVFP_November2024/Nominal/ee/ee_ttto2l2nu_jet_smeft_mtt_0to700_2016preVFP.root\u001b[39m\u001b[38;5;124m'\u001b[39m)\n\u001b[1;32m      3\u001b[0m \u001b[38;5;66;03m#file1=uproot.open('/eos/purdue/store/user/lingqian/minitrees2016preVFP/spinCorrInput_2016preVFP_fullrun2_eft_October2024/Nominal/ee/ee_ttto2l2nu_jet_smeft_mtt_0to700_2016preVFP.root')\u001b[39;00m\n\u001b[0;32m----> 4\u001b[0m file_test\u001b[38;5;241m=\u001b[39m\u001b[43muproot\u001b[49m\u001b[38;5;241;43m.\u001b[39;49m\u001b[43mopen\u001b[49m\u001b[43m(\u001b[49m\u001b[38;5;124;43m'\u001b[39;49m\u001b[38;5;124;43mroot://cmseos.fnal.gov//store/user/dspitzba/EFT/nanogen_123.root\u001b[39;49m\u001b[38;5;124;43m'\u001b[39;49m\u001b[43m)\u001b[49m\n",
      "File \u001b[0;32m/depot/cms/conda_envs/bhanda25/Coffea-Santosh/lib/python3.10/site-packages/uproot/reading.py:142\u001b[0m, in \u001b[0;36mopen\u001b[0;34m(path, object_cache, array_cache, custom_classes, decompression_executor, interpretation_executor, **options)\u001b[0m\n\u001b[1;32m    133\u001b[0m \u001b[38;5;28;01mif\u001b[39;00m \u001b[38;5;129;01mnot\u001b[39;00m \u001b[38;5;28misinstance\u001b[39m(file_path, \u001b[38;5;28mstr\u001b[39m) \u001b[38;5;129;01mand\u001b[39;00m \u001b[38;5;129;01mnot\u001b[39;00m (\n\u001b[1;32m    134\u001b[0m     \u001b[38;5;28mhasattr\u001b[39m(file_path, \u001b[38;5;124m\"\u001b[39m\u001b[38;5;124mread\u001b[39m\u001b[38;5;124m\"\u001b[39m) \u001b[38;5;129;01mand\u001b[39;00m \u001b[38;5;28mhasattr\u001b[39m(file_path, \u001b[38;5;124m\"\u001b[39m\u001b[38;5;124mseek\u001b[39m\u001b[38;5;124m\"\u001b[39m)\n\u001b[1;32m    135\u001b[0m ):\n\u001b[1;32m    136\u001b[0m     \u001b[38;5;28;01mraise\u001b[39;00m \u001b[38;5;167;01mValueError\u001b[39;00m(\n\u001b[1;32m    137\u001b[0m         \u001b[38;5;124m\"\u001b[39m\u001b[38;5;124m'\u001b[39m\u001b[38;5;124mpath\u001b[39m\u001b[38;5;124m'\u001b[39m\u001b[38;5;124m must be a string, pathlib.Path, an object with \u001b[39m\u001b[38;5;124m'\u001b[39m\u001b[38;5;124mread\u001b[39m\u001b[38;5;124m'\u001b[39m\u001b[38;5;124m and \u001b[39m\u001b[38;5;124m\"\u001b[39m\n\u001b[1;32m    138\u001b[0m         \u001b[38;5;124m\"\u001b[39m\u001b[38;5;124m'\u001b[39m\u001b[38;5;124mseek\u001b[39m\u001b[38;5;124m'\u001b[39m\u001b[38;5;124m methods, or a length-1 dict of \u001b[39m\u001b[38;5;124m{\u001b[39m\u001b[38;5;124mfile_path: object_path}, \u001b[39m\u001b[38;5;124m\"\u001b[39m\n\u001b[1;32m    139\u001b[0m         \u001b[38;5;124mf\u001b[39m\u001b[38;5;124m\"\u001b[39m\u001b[38;5;124mnot \u001b[39m\u001b[38;5;132;01m{\u001b[39;00mpath\u001b[38;5;132;01m!r}\u001b[39;00m\u001b[38;5;124m\"\u001b[39m\n\u001b[1;32m    140\u001b[0m     )\n\u001b[0;32m--> 142\u001b[0m file \u001b[38;5;241m=\u001b[39m \u001b[43mReadOnlyFile\u001b[49m\u001b[43m(\u001b[49m\n\u001b[1;32m    143\u001b[0m \u001b[43m    \u001b[49m\u001b[43mfile_path\u001b[49m\u001b[43m,\u001b[49m\n\u001b[1;32m    144\u001b[0m \u001b[43m    \u001b[49m\u001b[43mobject_cache\u001b[49m\u001b[38;5;241;43m=\u001b[39;49m\u001b[43mobject_cache\u001b[49m\u001b[43m,\u001b[49m\n\u001b[1;32m    145\u001b[0m \u001b[43m    \u001b[49m\u001b[43marray_cache\u001b[49m\u001b[38;5;241;43m=\u001b[39;49m\u001b[43marray_cache\u001b[49m\u001b[43m,\u001b[49m\n\u001b[1;32m    146\u001b[0m \u001b[43m    \u001b[49m\u001b[43mcustom_classes\u001b[49m\u001b[38;5;241;43m=\u001b[39;49m\u001b[43mcustom_classes\u001b[49m\u001b[43m,\u001b[49m\n\u001b[1;32m    147\u001b[0m \u001b[43m    \u001b[49m\u001b[43mdecompression_executor\u001b[49m\u001b[38;5;241;43m=\u001b[39;49m\u001b[43mdecompression_executor\u001b[49m\u001b[43m,\u001b[49m\n\u001b[1;32m    148\u001b[0m \u001b[43m    \u001b[49m\u001b[43minterpretation_executor\u001b[49m\u001b[38;5;241;43m=\u001b[39;49m\u001b[43minterpretation_executor\u001b[49m\u001b[43m,\u001b[49m\n\u001b[1;32m    149\u001b[0m \u001b[43m    \u001b[49m\u001b[38;5;241;43m*\u001b[39;49m\u001b[38;5;241;43m*\u001b[39;49m\u001b[43moptions\u001b[49m\u001b[43m,\u001b[49m\n\u001b[1;32m    150\u001b[0m \u001b[43m\u001b[49m\u001b[43m)\u001b[49m\n\u001b[1;32m    152\u001b[0m \u001b[38;5;28;01mif\u001b[39;00m object_path \u001b[38;5;129;01mis\u001b[39;00m \u001b[38;5;28;01mNone\u001b[39;00m:\n\u001b[1;32m    153\u001b[0m     \u001b[38;5;28;01mreturn\u001b[39;00m file\u001b[38;5;241m.\u001b[39mroot_directory\n",
      "File \u001b[0;32m/depot/cms/conda_envs/bhanda25/Coffea-Santosh/lib/python3.10/site-packages/uproot/reading.py:561\u001b[0m, in \u001b[0;36mReadOnlyFile.__init__\u001b[0;34m(self, file_path, object_cache, array_cache, custom_classes, decompression_executor, interpretation_executor, **options)\u001b[0m\n\u001b[1;32m    556\u001b[0m \u001b[38;5;28mself\u001b[39m\u001b[38;5;241m.\u001b[39mhook_before_create_source()\n\u001b[1;32m    558\u001b[0m source_cls, file_path \u001b[38;5;241m=\u001b[39m uproot\u001b[38;5;241m.\u001b[39m_util\u001b[38;5;241m.\u001b[39mfile_path_to_source_class(\n\u001b[1;32m    559\u001b[0m     file_path, \u001b[38;5;28mself\u001b[39m\u001b[38;5;241m.\u001b[39m_options\n\u001b[1;32m    560\u001b[0m )\n\u001b[0;32m--> 561\u001b[0m \u001b[38;5;28mself\u001b[39m\u001b[38;5;241m.\u001b[39m_source \u001b[38;5;241m=\u001b[39m \u001b[43msource_cls\u001b[49m\u001b[43m(\u001b[49m\u001b[43mfile_path\u001b[49m\u001b[43m,\u001b[49m\u001b[43m \u001b[49m\u001b[38;5;241;43m*\u001b[39;49m\u001b[38;5;241;43m*\u001b[39;49m\u001b[38;5;28;43mself\u001b[39;49m\u001b[38;5;241;43m.\u001b[39;49m\u001b[43m_options\u001b[49m\u001b[43m)\u001b[49m\n\u001b[1;32m    563\u001b[0m \u001b[38;5;28mself\u001b[39m\u001b[38;5;241m.\u001b[39mhook_before_get_chunks()\n\u001b[1;32m    565\u001b[0m \u001b[38;5;28;01mif\u001b[39;00m \u001b[38;5;28mself\u001b[39m\u001b[38;5;241m.\u001b[39m_options[\u001b[38;5;124m\"\u001b[39m\u001b[38;5;124mbegin_chunk_size\u001b[39m\u001b[38;5;124m\"\u001b[39m] \u001b[38;5;241m<\u001b[39m _file_header_fields_big\u001b[38;5;241m.\u001b[39msize:\n",
      "File \u001b[0;32m/depot/cms/conda_envs/bhanda25/Coffea-Santosh/lib/python3.10/site-packages/uproot/source/fsspec.py:45\u001b[0m, in \u001b[0;36mFSSpecSource.__init__\u001b[0;34m(self, file_path, coalesce_config, **options)\u001b[0m\n\u001b[1;32m     41\u001b[0m \u001b[38;5;28mself\u001b[39m\u001b[38;5;241m.\u001b[39m_async_impl \u001b[38;5;241m=\u001b[39m \u001b[38;5;28mself\u001b[39m\u001b[38;5;241m.\u001b[39m_fs\u001b[38;5;241m.\u001b[39masync_impl\n\u001b[1;32m     43\u001b[0m \u001b[38;5;28mself\u001b[39m\u001b[38;5;241m.\u001b[39m_file \u001b[38;5;241m=\u001b[39m \u001b[38;5;28;01mNone\u001b[39;00m\n\u001b[0;32m---> 45\u001b[0m \u001b[38;5;28;43mself\u001b[39;49m\u001b[38;5;241;43m.\u001b[39;49m\u001b[43m_open\u001b[49m\u001b[43m(\u001b[49m\u001b[43m)\u001b[49m\n\u001b[1;32m     47\u001b[0m \u001b[38;5;28mself\u001b[39m\u001b[38;5;241m.\u001b[39m\u001b[38;5;21m__enter__\u001b[39m()\n",
      "File \u001b[0;32m/depot/cms/conda_envs/bhanda25/Coffea-Santosh/lib/python3.10/site-packages/uproot/source/fsspec.py:59\u001b[0m, in \u001b[0;36mFSSpecSource._open\u001b[0;34m(self)\u001b[0m\n\u001b[1;32m     57\u001b[0m \u001b[38;5;28;01mdef\u001b[39;00m \u001b[38;5;21m_open\u001b[39m(\u001b[38;5;28mself\u001b[39m):\n\u001b[1;32m     58\u001b[0m     \u001b[38;5;28mself\u001b[39m\u001b[38;5;241m.\u001b[39m_executor \u001b[38;5;241m=\u001b[39m FSSpecLoopExecutor()\n\u001b[0;32m---> 59\u001b[0m     \u001b[38;5;28mself\u001b[39m\u001b[38;5;241m.\u001b[39m_file \u001b[38;5;241m=\u001b[39m \u001b[38;5;28;43mself\u001b[39;49m\u001b[38;5;241;43m.\u001b[39;49m\u001b[43m_fs\u001b[49m\u001b[38;5;241;43m.\u001b[39;49m\u001b[43mopen\u001b[49m\u001b[43m(\u001b[49m\u001b[38;5;28;43mself\u001b[39;49m\u001b[38;5;241;43m.\u001b[39;49m\u001b[43m_file_path\u001b[49m\u001b[43m)\u001b[49m\n",
      "File \u001b[0;32m/depot/cms/conda_envs/bhanda25/Coffea-Santosh/lib/python3.10/site-packages/fsspec_xrootd/xrootd.py:706\u001b[0m, in \u001b[0;36mXRootDFileSystem.open\u001b[0;34m(self, path, mode, block_size, cache_options, compression, **kwargs)\u001b[0m\n\u001b[1;32m    704\u001b[0m \u001b[38;5;28;01melse\u001b[39;00m:\n\u001b[1;32m    705\u001b[0m     ac \u001b[38;5;241m=\u001b[39m kwargs\u001b[38;5;241m.\u001b[39mpop(\u001b[38;5;124m\"\u001b[39m\u001b[38;5;124mautocommit\u001b[39m\u001b[38;5;124m\"\u001b[39m, \u001b[38;5;129;01mnot\u001b[39;00m \u001b[38;5;28mself\u001b[39m\u001b[38;5;241m.\u001b[39m_intrans)\n\u001b[0;32m--> 706\u001b[0m     f \u001b[38;5;241m=\u001b[39m \u001b[38;5;28;43mself\u001b[39;49m\u001b[38;5;241;43m.\u001b[39;49m\u001b[43m_open\u001b[49m\u001b[43m(\u001b[49m\n\u001b[1;32m    707\u001b[0m \u001b[43m        \u001b[49m\u001b[43mpath\u001b[49m\u001b[43m,\u001b[49m\n\u001b[1;32m    708\u001b[0m \u001b[43m        \u001b[49m\u001b[43mmode\u001b[49m\u001b[38;5;241;43m=\u001b[39;49m\u001b[43mmode\u001b[49m\u001b[43m,\u001b[49m\n\u001b[1;32m    709\u001b[0m \u001b[43m        \u001b[49m\u001b[43mblock_size\u001b[49m\u001b[38;5;241;43m=\u001b[39;49m\u001b[43mblock_size\u001b[49m\u001b[43m,\u001b[49m\n\u001b[1;32m    710\u001b[0m \u001b[43m        \u001b[49m\u001b[43mautocommit\u001b[49m\u001b[38;5;241;43m=\u001b[39;49m\u001b[43mac\u001b[49m\u001b[43m,\u001b[49m\n\u001b[1;32m    711\u001b[0m \u001b[43m        \u001b[49m\u001b[43mcache_options\u001b[49m\u001b[38;5;241;43m=\u001b[39;49m\u001b[43mcache_options\u001b[49m\u001b[43m,\u001b[49m\n\u001b[1;32m    712\u001b[0m \u001b[43m        \u001b[49m\u001b[38;5;241;43m*\u001b[39;49m\u001b[38;5;241;43m*\u001b[39;49m\u001b[43mkwargs\u001b[49m\u001b[43m,\u001b[49m\n\u001b[1;32m    713\u001b[0m \u001b[43m    \u001b[49m\u001b[43m)\u001b[49m\n\u001b[1;32m    714\u001b[0m     \u001b[38;5;28;01mif\u001b[39;00m compression \u001b[38;5;129;01mis\u001b[39;00m \u001b[38;5;129;01mnot\u001b[39;00m \u001b[38;5;28;01mNone\u001b[39;00m:\n\u001b[1;32m    715\u001b[0m         \u001b[38;5;28;01mfrom\u001b[39;00m \u001b[38;5;21;01mfsspec\u001b[39;00m\u001b[38;5;21;01m.\u001b[39;00m\u001b[38;5;21;01mcompression\u001b[39;00m \u001b[38;5;28;01mimport\u001b[39;00m compr\n",
      "File \u001b[0;32m/depot/cms/conda_envs/bhanda25/Coffea-Santosh/lib/python3.10/site-packages/fsspec_xrootd/xrootd.py:663\u001b[0m, in \u001b[0;36mXRootDFileSystem._open\u001b[0;34m(self, path, mode, block_size, autocommit, cache_options, **kwargs)\u001b[0m\n\u001b[1;32m    654\u001b[0m \u001b[38;5;28;01mdef\u001b[39;00m \u001b[38;5;21m_open\u001b[39m(\n\u001b[1;32m    655\u001b[0m     \u001b[38;5;28mself\u001b[39m,\n\u001b[1;32m    656\u001b[0m     path: \u001b[38;5;28mstr\u001b[39m,\n\u001b[0;32m   (...)\u001b[0m\n\u001b[1;32m    661\u001b[0m     \u001b[38;5;241m*\u001b[39m\u001b[38;5;241m*\u001b[39mkwargs: Any,\n\u001b[1;32m    662\u001b[0m ) \u001b[38;5;241m-\u001b[39m\u001b[38;5;241m>\u001b[39m XRootDFile:\n\u001b[0;32m--> 663\u001b[0m     \u001b[38;5;28;01mreturn\u001b[39;00m \u001b[43mXRootDFile\u001b[49m\u001b[43m(\u001b[49m\n\u001b[1;32m    664\u001b[0m \u001b[43m        \u001b[49m\u001b[38;5;28;43mself\u001b[39;49m\u001b[43m,\u001b[49m\n\u001b[1;32m    665\u001b[0m \u001b[43m        \u001b[49m\u001b[43mpath\u001b[49m\u001b[43m,\u001b[49m\n\u001b[1;32m    666\u001b[0m \u001b[43m        \u001b[49m\u001b[43mmode\u001b[49m\u001b[43m,\u001b[49m\n\u001b[1;32m    667\u001b[0m \u001b[43m        \u001b[49m\u001b[43mblock_size\u001b[49m\u001b[43m,\u001b[49m\n\u001b[1;32m    668\u001b[0m \u001b[43m        \u001b[49m\u001b[43mautocommit\u001b[49m\u001b[43m,\u001b[49m\n\u001b[1;32m    669\u001b[0m \u001b[43m        \u001b[49m\u001b[43mcache_options\u001b[49m\u001b[38;5;241;43m=\u001b[39;49m\u001b[43mcache_options\u001b[49m\u001b[43m,\u001b[49m\n\u001b[1;32m    670\u001b[0m \u001b[43m        \u001b[49m\u001b[38;5;241;43m*\u001b[39;49m\u001b[38;5;241;43m*\u001b[39;49m\u001b[43mkwargs\u001b[49m\u001b[43m,\u001b[49m\n\u001b[1;32m    671\u001b[0m \u001b[43m    \u001b[49m\u001b[43m)\u001b[49m\n",
      "File \u001b[0;32m/depot/cms/conda_envs/bhanda25/Coffea-Santosh/lib/python3.10/site-packages/fsspec_xrootd/xrootd.py:768\u001b[0m, in \u001b[0;36mXRootDFile.__init__\u001b[0;34m(self, fs, path, mode, block_size, autocommit, cache_type, cache_options, size, **kwargs)\u001b[0m\n\u001b[1;32m    762\u001b[0m status, _ \u001b[38;5;241m=\u001b[39m \u001b[38;5;28mself\u001b[39m\u001b[38;5;241m.\u001b[39m_myFile\u001b[38;5;241m.\u001b[39mopen(\n\u001b[1;32m    763\u001b[0m     fs\u001b[38;5;241m.\u001b[39munstrip_protocol(path),\n\u001b[1;32m    764\u001b[0m     \u001b[38;5;28mself\u001b[39m\u001b[38;5;241m.\u001b[39mmode,\n\u001b[1;32m    765\u001b[0m     timeout\u001b[38;5;241m=\u001b[39m\u001b[38;5;28mself\u001b[39m\u001b[38;5;241m.\u001b[39mtimeout,\n\u001b[1;32m    766\u001b[0m )\n\u001b[1;32m    767\u001b[0m \u001b[38;5;28;01mif\u001b[39;00m \u001b[38;5;129;01mnot\u001b[39;00m status\u001b[38;5;241m.\u001b[39mok:\n\u001b[0;32m--> 768\u001b[0m     \u001b[38;5;28;01mraise\u001b[39;00m \u001b[38;5;167;01mOSError\u001b[39;00m(\u001b[38;5;124mf\u001b[39m\u001b[38;5;124m\"\u001b[39m\u001b[38;5;124mFile did not open properly: \u001b[39m\u001b[38;5;132;01m{\u001b[39;00mstatus\u001b[38;5;241m.\u001b[39mmessage\u001b[38;5;132;01m}\u001b[39;00m\u001b[38;5;124m\"\u001b[39m)\n\u001b[1;32m    770\u001b[0m \u001b[38;5;28mself\u001b[39m\u001b[38;5;241m.\u001b[39mmetaOffset \u001b[38;5;241m=\u001b[39m \u001b[38;5;241m0\u001b[39m\n\u001b[1;32m    771\u001b[0m \u001b[38;5;28;01mif\u001b[39;00m \u001b[38;5;124m\"\u001b[39m\u001b[38;5;124ma\u001b[39m\u001b[38;5;124m\"\u001b[39m \u001b[38;5;129;01min\u001b[39;00m mode:\n",
      "\u001b[0;31mOSError\u001b[0m: File did not open properly: [FATAL] Auth failed: No protocols left to try"
     ]
    }
   ],
   "source": [
    "import uproot\n",
    "file=uproot.open('/eos/purdue/store/user/lingqian/minitrees2016preVFP/spinCorrInput_2016preVFP_November2024/Nominal/ee/ee_ttto2l2nu_jet_smeft_mtt_0to700_2016preVFP.root')\n",
    "#file1=uproot.open('/eos/purdue/store/user/lingqian/minitrees2016preVFP/spinCorrInput_2016preVFP_fullrun2_eft_October2024/Nominal/ee/ee_ttto2l2nu_jet_smeft_mtt_0to700_2016preVFP.root')\n",
    "file_test=uproot.open('root://cmseos.fnal.gov//store/user/dspitzba/EFT/nanogen_123.root')"
   ]
  },
  {
   "cell_type": "code",
   "execution_count": 39,
   "id": "16c3b122-a2b5-452d-a418-b6125554fa4e",
   "metadata": {},
   "outputs": [
    {
     "data": {
      "text/plain": [
       "['ttBar_treeVariables_step0;19',\n",
       " 'ttBar_treeVariables_step0;18',\n",
       " 'ttBar_treeVariables_step7;4',\n",
       " 'ttBar_treeVariables_step7;3',\n",
       " 'ttBar_treeVariables_step8;4',\n",
       " 'ttBar_treeVariables_step8;3',\n",
       " 'ttBar_treeVariables_step7zWindow;2',\n",
       " 'ttBar_treeVariables_step7zWindow;1',\n",
       " 'weightedEvents;1',\n",
       " 'ttBar_treeVariables_step8zWindow;1']"
      ]
     },
     "execution_count": 39,
     "metadata": {},
     "output_type": "execute_result"
    }
   ],
   "source": [
    "file.keys()"
   ]
  },
  {
   "cell_type": "code",
   "execution_count": 53,
   "id": "1cf0a8e2-aaae-4d54-a9d2-824e2dcd377b",
   "metadata": {},
   "outputs": [
    {
     "data": {
      "text/plain": [
       "['ttBar_treeVariables_step0;16',\n",
       " 'ttBar_treeVariables_step0;15',\n",
       " 'ttBar_treeVariables_step8;3',\n",
       " 'ttBar_treeVariables_step8;2',\n",
       " 'weightedEvents;1']"
      ]
     },
     "execution_count": 53,
     "metadata": {},
     "output_type": "execute_result"
    }
   ],
   "source": [
    "file1.keys()"
   ]
  },
  {
   "cell_type": "code",
   "execution_count": 56,
   "id": "fd9468af-af4f-482f-a136-88af91bd622c",
   "metadata": {},
   "outputs": [
    {
     "data": {
      "text/html": [
       "<pre>[0.828,\n",
       " 0.646,\n",
       " 0.898,\n",
       " 0.856,\n",
       " 0.955,\n",
       " 0.908,\n",
       " 0.918,\n",
       " 1.02,\n",
       " 0.937,\n",
       " 0.744,\n",
       " ...,\n",
       " 0.869,\n",
       " 0.795,\n",
       " 0.682,\n",
       " 0.921,\n",
       " 0.712,\n",
       " 0.878,\n",
       " 0.963,\n",
       " 1.28,\n",
       " 0.666]\n",
       "----------------------\n",
       "type: 119625 * float32</pre>"
      ],
      "text/plain": [
       "<Array [0.828, 0.646, 0.898, ..., 0.963, 1.28, 0.666] type='119625 * float32'>"
      ]
     },
     "execution_count": 56,
     "metadata": {},
     "output_type": "execute_result"
    }
   ],
   "source": [
    "file['ttBar_treeVariables_step8;3']['eventWeight'].array()"
   ]
  },
  {
   "cell_type": "code",
   "execution_count": 21,
   "id": "992e7e0c-f389-4a0c-9f75-579f4e5c8f98",
   "metadata": {},
   "outputs": [
    {
     "data": {
      "text/html": [
       "<pre>[[1.07, 1.08, 1, 0.885, 0.822, 0.898, ..., 0.88, 0.88, 0.88, 0.88, 0.88, 0.88],\n",
       " [1.02, 1.11, 1, 0.952, 0.88, 1.01, ..., 0.945, 0.945, 0.953, 0.953, 0.953],\n",
       " [0.474, 0.678, 0.172, 0.117, 1.03, ..., 0.412, 0.322, 0.663, 0.412, 0.322],\n",
       " [0.594, 0.783, 0.281, 0.201, 1.08, ..., 0.522, 0.453, 0.71, 0.522, 0.453],\n",
       " [1.02, 0.958, 0.775, 0.736, 0.785, ..., 0.811, 0.811, 0.811, 0.811, 0.812],\n",
       " [1.07, 0.819, 0.773, 0.879, 0.948, ..., 0.893, 0.893, 0.882, 0.882, 0.882],\n",
       " [0.942, 0.775, 0.45, 0.43, 0.799, ..., 0.556, 0.556, 0.534, 0.534, 0.534],\n",
       " [1.05, 1.09, 1.06, 0.924, 0.844, ..., 0.908, 0.908, 0.908, 0.908, 0.908],\n",
       " [1.18, 1.1, 0.981, 0.771, 0.695, ..., 0.767, 0.767, 0.767, 0.767, 0.767],\n",
       " [1.07, 1.07, 1.02, 0.898, 0.834, ..., 0.889, 0.889, 0.889, 0.889, 0.889],\n",
       " ...,\n",
       " [0.601, 0.741, 0.291, 0.222, 0.969, ..., 0.503, 0.444, 0.66, 0.503, 0.444],\n",
       " [1.11, 1, 0.883, 0.827, 0.822, 0.828, ..., 0.846, 0.846, 0.846, 0.846, 0.846],\n",
       " [1.14, 1.16, 1.13, 0.861, 0.731, ..., 0.828, 0.828, 0.828, 0.828, 0.828],\n",
       " [1.08, 1.08, 1.04, 0.9, 0.835, 0.917, ..., 0.889, 0.889, 0.889, 0.889, 0.889],\n",
       " [0.747, 0.872, 0.738, 0.643, 0.649, ..., 0.667, 0.65, 0.688, 0.667, 0.65],\n",
       " [0.944, 1.16, 1.27, 1.11, 0.974, 1.14, ..., 1.05, 1.05, 1.05, 1.05, 1.05],\n",
       " [1.14, 1.03, 0.876, 0.773, 0.747, ..., 0.791, 0.791, 0.791, 0.791, 0.791],\n",
       " [1.06, 1.03, 1.26, 1.35, 0.773, 1.42, ..., 1.08, 1.04, 1.04, 1.01, 1.01, 1.01],\n",
       " [1.1, 1.05, 0.956, 0.84, 0.796, 0.851, ..., 0.844, 0.844, 0.844, 0.844, 0.844]]\n",
       "--------------------------------------------------------------------------------\n",
       "type: 194619 * var * float32</pre>"
      ],
      "text/plain": [
       "<Array [[1.07, 1.08, 1, ..., 0.88, 0.88], ...] type='194619 * var * float32'>"
      ]
     },
     "execution_count": 21,
     "metadata": {},
     "output_type": "execute_result"
    }
   ],
   "source": [
    "a"
   ]
  },
  {
   "cell_type": "code",
   "execution_count": 35,
   "id": "9bd5ebe6-22e5-4fe6-852e-0df2627f98c4",
   "metadata": {},
   "outputs": [
    {
     "data": {
      "text/plain": [
       "194619"
      ]
     },
     "execution_count": 35,
     "metadata": {},
     "output_type": "execute_result"
    }
   ],
   "source": [
    "b= [row[353] for row in a]\n",
    "len(b)"
   ]
  },
  {
   "cell_type": "code",
   "execution_count": 31,
   "id": "08ecebb1-23f6-46cb-9c25-68ecb409b79a",
   "metadata": {},
   "outputs": [
    {
     "data": {
      "image/png": "[encoded data removed]",
      "text/plain": [
       "<Figure size 1000x500 with 1 Axes>"
      ]
     },
     "metadata": {},
     "output_type": "display_data"
    }
   ],
   "source": [
    "import matplotlib.pyplot as plt\n",
    "# Generate indices for the x-axis\n",
    "x = range(len(b))\n",
    "\n",
    "# Create the plot\n",
    "plt.figure(figsize=(10, 5))\n",
    "plt.plot(x, b, marker='o', linestyle='-', color='b', label='Values')\n",
    "plt.title('Plot of Given Values')\n",
    "plt.xlabel('Index')\n",
    "plt.ylabel('Value')\n",
    "plt.legend()\n",
    "plt.grid(True)\n",
    "\n",
    "# Show the plot\n",
    "plt.show()\n"
   ]
  },
  {
   "cell_type": "code",
   "execution_count": 6,
   "id": "d3f450bd-81cb-4f9b-95eb-5a261e3751c2",
   "metadata": {},
   "outputs": [
    {
     "data": {
      "text/html": [
       "<pre>[[65.8, 43.2],\n",
       " [89, 24.8],\n",
       " [25.3],\n",
       " [41, 17.3],\n",
       " [84.4],\n",
       " [87.4, 22.5],\n",
       " [49.1],\n",
       " [96, 30.9],\n",
       " [49.2, 15.1],\n",
       " [131],\n",
       " ...,\n",
       " [84.2],\n",
       " [64.2],\n",
       " [32.1, 21.4],\n",
       " [62.9, 49.4, 18.5],\n",
       " [60.2, 56.4],\n",
       " [74.6, 59.5],\n",
       " [24.7],\n",
       " [34.4],\n",
       " [55.2, 53.6]]\n",
       "------------------------------\n",
       "type: 17012877 * var * float32</pre>"
      ],
      "text/plain": [
       "<Array [[65.8, 43.2], [...], ..., [55.2, 53.6]] type='17012877 * var * float32'>"
      ]
     },
     "execution_count": 6,
     "metadata": {},
     "output_type": "execute_result"
    }
   ],
   "source": [
    "file['writeNTuple/NTuple;1']['leptons/leptons.fCoordinates.fPt'].array()"
   ]
  },
  {
   "cell_type": "code",
   "execution_count": 13,
   "id": "ddf63056-0506-47f8-b739-d336fd84c8b9",
   "metadata": {},
   "outputs": [
    {
     "data": {
      "text/plain": [
       "6.6095777"
      ]
     },
     "execution_count": 13,
     "metadata": {},
     "output_type": "execute_result"
    }
   ],
   "source": [
    "file['writeNTuple/NTuple;1']['rho'].array()[0]"
   ]
  },
  {
   "cell_type": "code",
   "execution_count": 3,
   "id": "b871e9e1-3f6e-4a73-b560-336d02dc49ac",
   "metadata": {},
   "outputs": [
    {
     "data": {
      "text/html": [
       "<pre>[[1.08, 1.17, 1.31, 0.981, 1.15, 1.09, ..., 1.09, 1.1, 1.09, 1.12, 1.1, 1.09],\n",
       " [1.28, 0.985, 0.977, 0.726, 0.498, ..., 0.639, 0.639, 0.633, 0.633, 0.633],\n",
       " [1.2, 0.997, 0.827, 0.725, 0.733, ..., 0.754, 0.754, 0.754, 0.754, 0.754],\n",
       " [0.943, 0.517, 0.496, 0.324, 0.582, ..., 0.439, 0.439, 0.431, 0.431, 0.431],\n",
       " [1.11, 1.07, 0.978, 0.839, 0.781, ..., 0.838, 0.838, 0.838, 0.838, 0.838],\n",
       " [1.04, 1.25, 1.25, 0.937, 0.742, ..., 0.885, 0.885, 0.885, 0.885, 0.885],\n",
       " [1.09, 1.16, 1.06, 0.841, 0.721, ..., 0.823, 0.823, 0.823, 0.823, 0.823],\n",
       " [0.777, 0.813, 0.578, 0.493, 0.8, ..., 0.647, 0.623, 0.691, 0.647, 0.623],\n",
       " [1.03, 1.1, 1.08, 0.943, 0.858, 0.962, ..., 0.924, 0.924, 0.924, 0.924, 0.924],\n",
       " [1.2, 0.969, 0.76, 0.701, 0.716, ..., 0.738, 0.738, 0.738, 0.738, 0.738],\n",
       " ...,\n",
       " [1.15, 1.1, 1, 0.8, 0.715, 0.822, ..., 0.792, 0.792, 0.792, 0.792, 0.792],\n",
       " [1.17, 1.01, 0.87, 0.827, 0.992, 0.831, ..., 0.878, 0.85, 0.919, 0.878, 0.85],\n",
       " [1.06, 1.1, 1.04, 0.901, 0.819, 0.918, ..., 0.889, 0.889, 0.889, 0.889, 0.889],\n",
       " [1.01, 1.04, 0.934, 0.866, 0.858, ..., 0.865, 0.865, 0.853, 0.853, 0.853],\n",
       " [1.13, 1.02, 0.899, 0.808, 0.79, ..., 0.823, 0.823, 0.823, 0.823, 0.823],\n",
       " [0.729, 0.755, 0.437, 0.475, 0.673, ..., 0.543, 0.526, 0.582, 0.543, 0.526],\n",
       " [1.1, 1.05, 0.926, 0.829, 0.806, ..., 0.845, 0.845, 0.847, 0.847, 0.847],\n",
       " [1.1, 1.06, 1.01, 0.859, 0.762, 0.896, ..., 0.842, 0.842, 0.843, 0.843, 0.843],\n",
       " [2.42, 2.08, 1.07, 3.16, 1.5, 1.67, ..., 0.606, 0.606, 0.306, 0.306, 0.306]]\n",
       "--------------------------------------------------------------------------------\n",
       "type: 8826286 * var * float32</pre>"
      ],
      "text/plain": [
       "<Array [[1.08, 1.17, 1.31, ..., 1.1, 1.09], ...] type='8826286 * var * float32'>"
      ]
     },
     "execution_count": 3,
     "metadata": {},
     "output_type": "execute_result"
    }
   ],
   "source": [
    "file['writeNTuple/NTuple;1']['mgWeights'].array()"
   ]
  },
  {
   "cell_type": "code",
   "execution_count": 5,
   "id": "e58a03c3-d3ad-451c-8328-9c267a0a5d9c",
   "metadata": {},
   "outputs": [],
   "source": [
    "a=file['writeNTuple/NTuple;1']['mgWeights'].array()"
   ]
  },
  {
   "cell_type": "code",
   "execution_count": 22,
   "id": "cfcfffff-120c-42ba-8ce2-2283fd8301c8",
   "metadata": {},
   "outputs": [
    {
     "data": {
      "text/html": [
       "<pre>[1.18,\n",
       " 1.1,\n",
       " 0.974,\n",
       " 0.776,\n",
       " 0.69,\n",
       " 0.793,\n",
       " 0.614,\n",
       " 0.463,\n",
       " 0.529,\n",
       " 0.573,\n",
       " ...,\n",
       " 0.767,\n",
       " 0.765,\n",
       " 0.765,\n",
       " 0.768,\n",
       " 0.767,\n",
       " 0.767,\n",
       " 0.765,\n",
       " 0.765,\n",
       " 0.765]\n",
       "-------------------\n",
       "type: 353 * float32</pre>"
      ],
      "text/plain": [
       "<Array [1.18, 1.1, 0.974, 0.776, ..., 0.765, 0.765, 0.765] type='353 * float32'>"
      ]
     },
     "execution_count": 22,
     "metadata": {},
     "output_type": "execute_result"
    }
   ],
   "source": [
    "a[8800]"
   ]
  },
  {
   "cell_type": "code",
   "execution_count": 16,
   "id": "3530a329-bb99-4226-9a3b-ab363028ab40",
   "metadata": {},
   "outputs": [
    {
     "data": {
      "text/plain": [
       "['patPackedCandidates_packedPFCandidates__PAT./patPackedCandidates_packedPFCandidates__PAT.obj/patPackedCandidates_packedPFCandidates__PAT.obj.packedPuppiweight_',\n",
       " 'patPackedCandidates_packedPFCandidates__PAT./patPackedCandidates_packedPFCandidates__PAT.obj/patPackedCandidates_packedPFCandidates__PAT.obj.packedPuppiweightNoLepDiff_',\n",
       " 'recoVertexs_offlineSlimmedPrimaryVertices__PAT./recoVertexs_offlineSlimmedPrimaryVertices__PAT.obj/recoVertexs_offlineSlimmedPrimaryVertices__PAT.obj.weights_']"
      ]
     },
     "execution_count": 16,
     "metadata": {},
     "output_type": "execute_result"
    }
   ],
   "source": [
    "file_mini['Events'].keys(filter_name='*weight*')"
   ]
  },
  {
   "cell_type": "code",
   "execution_count": 10,
   "id": "a1b61f13-fd37-478d-b049-675c500cf460",
   "metadata": {},
   "outputs": [
    {
     "data": {
      "text/plain": [
       "['LHEEventProduct_externalLHEProducer__GEN.',\n",
       " 'LHEEventProduct_externalLHEProducer__GEN./LHEEventProduct_externalLHEProducer__GEN.present',\n",
       " 'LHEEventProduct_externalLHEProducer__GEN./LHEEventProduct_externalLHEProducer__GEN.obj']"
      ]
     },
     "execution_count": 10,
     "metadata": {},
     "output_type": "execute_result"
    }
   ],
   "source": [
    "file1['Events'].keys(filter_name='*LHE*')"
   ]
  },
  {
   "cell_type": "code",
   "execution_count": null,
   "id": "376f47b1-96e0-4a5d-a68f-a481b73488fb",
   "metadata": {},
   "outputs": [],
   "source": []
  }
 ],
 "metadata": {
  "kernelspec": {
   "display_name": "Python3 kernel (default)",
   "language": "python",
   "name": "python3"
  },
  "language_info": {
   "codemirror_mode": {
    "name": "ipython",
    "version": 3
   },
   "file_extension": ".py",
   "mimetype": "text/x-python",
   "name": "python",
   "nbconvert_exporter": "python",
   "pygments_lexer": "ipython3",
   "version": "3.10.10"
  }
 },
 "nbformat": 4,
 "nbformat_minor": 5
}
