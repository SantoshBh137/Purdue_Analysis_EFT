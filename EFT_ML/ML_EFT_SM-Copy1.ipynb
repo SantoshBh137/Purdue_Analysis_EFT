{
 "cells": [
  {
   "cell_type": "code",
   "execution_count": 29,
   "id": "3491786a-18af-4b79-9898-e455666d37b7",
   "metadata": {},
   "outputs": [],
   "source": [
    "import torch\n",
    "import torch.nn as nn\n",
    "import torch.optim as optim\n",
    "import numpy as np\n",
    "import pandas as pd\n",
    "import uproot\n",
    "import os\n",
    "from sklearn.model_selection import train_test_split\n",
    "from sklearn.preprocessing import StandardScaler\n",
    "from torch.utils.data import Dataset, DataLoader\n",
    "import matplotlib.pyplot as plt\n",
    "from scipy.special import expit  # Sigmoid function\n",
    "\n",
    "\n"
   ]
  },
  {
   "cell_type": "code",
   "execution_count": 30,
   "id": "8d6364b9-9f4a-4e15-9f76-4b4a5aa5f172",
   "metadata": {},
   "outputs": [],
   "source": [
    "# ============================\n",
    "# STEP 1: LOAD EVENT DATA\n",
    "# ============================\n",
    "\n",
    "# Directory path containing the ROOT files\n",
    "directory_path = \"/eos/purdue/store/user/lingqian/fullrun2_eft_minitrees/spinCorrInput_2016preVFP/Nominal\"\n",
    "\n",
    "# Define the specific files you want to include\n",
    "desired_files = [\n",
    "    'ee/ee_ttto2l2nu_jet_smeft_mtt_0to700_2016preVFP.root',\n",
    "    'ee/ee_ttto2l2nu_jet_smeft_mtt_700to900_2016preVFP.root',\n",
    "    'ee/ee_ttto2l2nu_jet_smeft_mtt_900toInf_2016preVFP.root',\n",
    "    'mumu/mumu_ttto2l2nu_jet_smeft_mtt_0to700_2016preVFP.root',\n",
    "    'mumu/mumu_ttto2l2nu_jet_smeft_mtt_700to900_2016preVFP.root',\n",
    "    'mumu/mumu_ttto2l2nu_jet_smeft_mtt_900toInf_2016preVFP.root'\n",
    "]\n",
    "\n",
    "# Construct the full paths\n",
    "file_paths = [os.path.join(directory_path, filename) for filename in desired_files]\n",
    "\n",
    "# Open each ROOT file and extract the TTree\n",
    "trees = [uproot.open(file_path)['ttBar_treeVariables_step0'] for file_path in file_paths]\n",
    "\n",
    "# Concatenate all TTrees into a single DataFrame\n",
    "file = uproot.concatenate(trees)\n"
   ]
  },
  {
   "cell_type": "code",
   "execution_count": 40,
   "id": "2c2f1caa-6a22-429e-aa18-03a49859803f",
   "metadata": {},
   "outputs": [
    {
     "data": {
      "text/html": [
       "<div>\n",
       "<style scoped>\n",
       "    .dataframe tbody tr th:only-of-type {\n",
       "        vertical-align: middle;\n",
       "    }\n",
       "\n",
       "    .dataframe tbody tr th {\n",
       "        vertical-align: top;\n",
       "    }\n",
       "\n",
       "    .dataframe thead th {\n",
       "        text-align: right;\n",
       "    }\n",
       "</style>\n",
       "<table border=\"1\" class=\"dataframe\">\n",
       "  <thead>\n",
       "    <tr style=\"text-align: right;\">\n",
       "      <th></th>\n",
       "      <th>gen_ttbar_mass</th>\n",
       "      <th>gen_c_kk</th>\n",
       "      <th>gen_c_rr</th>\n",
       "      <th>gen_c_nn</th>\n",
       "      <th>gen_ll_cHel</th>\n",
       "    </tr>\n",
       "  </thead>\n",
       "  <tbody>\n",
       "    <tr>\n",
       "      <th>0</th>\n",
       "      <td>369.294556</td>\n",
       "      <td>-0.033142</td>\n",
       "      <td>-0.928466</td>\n",
       "      <td>-0.006905</td>\n",
       "      <td>0.968514</td>\n",
       "    </tr>\n",
       "    <tr>\n",
       "      <th>1</th>\n",
       "      <td>423.165894</td>\n",
       "      <td>0.095662</td>\n",
       "      <td>-0.221265</td>\n",
       "      <td>-0.531052</td>\n",
       "      <td>0.656654</td>\n",
       "    </tr>\n",
       "    <tr>\n",
       "      <th>2</th>\n",
       "      <td>662.066345</td>\n",
       "      <td>-0.042749</td>\n",
       "      <td>-0.258689</td>\n",
       "      <td>-0.645551</td>\n",
       "      <td>0.946988</td>\n",
       "    </tr>\n",
       "    <tr>\n",
       "      <th>3</th>\n",
       "      <td>612.362488</td>\n",
       "      <td>0.196327</td>\n",
       "      <td>0.540248</td>\n",
       "      <td>-0.213331</td>\n",
       "      <td>-0.523244</td>\n",
       "    </tr>\n",
       "    <tr>\n",
       "      <th>4</th>\n",
       "      <td>412.903900</td>\n",
       "      <td>-0.029048</td>\n",
       "      <td>0.308015</td>\n",
       "      <td>-0.089454</td>\n",
       "      <td>-0.189513</td>\n",
       "    </tr>\n",
       "    <tr>\n",
       "      <th>...</th>\n",
       "      <td>...</td>\n",
       "      <td>...</td>\n",
       "      <td>...</td>\n",
       "      <td>...</td>\n",
       "      <td>...</td>\n",
       "    </tr>\n",
       "    <tr>\n",
       "      <th>5471297</th>\n",
       "      <td>1088.313110</td>\n",
       "      <td>-0.017014</td>\n",
       "      <td>0.024439</td>\n",
       "      <td>0.095029</td>\n",
       "      <td>-0.102453</td>\n",
       "    </tr>\n",
       "    <tr>\n",
       "      <th>5471298</th>\n",
       "      <td>1161.997803</td>\n",
       "      <td>0.598700</td>\n",
       "      <td>0.284702</td>\n",
       "      <td>0.073280</td>\n",
       "      <td>-0.956682</td>\n",
       "    </tr>\n",
       "    <tr>\n",
       "      <th>5471299</th>\n",
       "      <td>1308.676147</td>\n",
       "      <td>-0.031032</td>\n",
       "      <td>0.256237</td>\n",
       "      <td>-0.599797</td>\n",
       "      <td>0.374591</td>\n",
       "    </tr>\n",
       "    <tr>\n",
       "      <th>5471300</th>\n",
       "      <td>1318.734863</td>\n",
       "      <td>-0.170686</td>\n",
       "      <td>0.384919</td>\n",
       "      <td>0.133034</td>\n",
       "      <td>-0.347267</td>\n",
       "    </tr>\n",
       "    <tr>\n",
       "      <th>5471301</th>\n",
       "      <td>1235.194092</td>\n",
       "      <td>0.725990</td>\n",
       "      <td>-0.009115</td>\n",
       "      <td>-0.233251</td>\n",
       "      <td>-0.483625</td>\n",
       "    </tr>\n",
       "  </tbody>\n",
       "</table>\n",
       "<p>5471302 rows × 5 columns</p>\n",
       "</div>"
      ],
      "text/plain": [
       "         gen_ttbar_mass  gen_c_kk  gen_c_rr  gen_c_nn  gen_ll_cHel\n",
       "0            369.294556 -0.033142 -0.928466 -0.006905     0.968514\n",
       "1            423.165894  0.095662 -0.221265 -0.531052     0.656654\n",
       "2            662.066345 -0.042749 -0.258689 -0.645551     0.946988\n",
       "3            612.362488  0.196327  0.540248 -0.213331    -0.523244\n",
       "4            412.903900 -0.029048  0.308015 -0.089454    -0.189513\n",
       "...                 ...       ...       ...       ...          ...\n",
       "5471297     1088.313110 -0.017014  0.024439  0.095029    -0.102453\n",
       "5471298     1161.997803  0.598700  0.284702  0.073280    -0.956682\n",
       "5471299     1308.676147 -0.031032  0.256237 -0.599797     0.374591\n",
       "5471300     1318.734863 -0.170686  0.384919  0.133034    -0.347267\n",
       "5471301     1235.194092  0.725990 -0.009115 -0.233251    -0.483625\n",
       "\n",
       "[5471302 rows x 5 columns]"
      ]
     },
     "execution_count": 40,
     "metadata": {},
     "output_type": "execute_result"
    }
   ],
   "source": [
    "df = pd.DataFrame({var: file[var] for var in VARS})\n",
    "df"
   ]
  },
  {
   "cell_type": "code",
   "execution_count": 41,
   "id": "7f08ca16-bdaf-4846-8292-06c86cb4df3c",
   "metadata": {},
   "outputs": [
    {
     "data": {
      "text/plain": [
       "array([0.11990196, 0.19171169, 0.38946152, ..., 0.00123783, 0.02583181,\n",
       "       0.00090645])"
      ]
     },
     "execution_count": 41,
     "metadata": {},
     "output_type": "execute_result"
    }
   ],
   "source": [
    "weight_eft"
   ]
  },
  {
   "cell_type": "code",
   "execution_count": 50,
   "id": "9826b883-b381-4409-8fb3-1f22861a0fe2",
   "metadata": {},
   "outputs": [],
   "source": [
    "# ============================\n",
    "# STEP 2: COMPUTE EVENT WEIGHTS\n",
    "# ============================\n",
    "import sys\n",
    "sys.path.append('/depot/cms/top/bhanda25/EFT_minitree')\n",
    "\n",
    "from Event_weight_prediction import *\n",
    "# Define the observables (features)\n",
    "VARS = ['gen_ttbar_mass', 'gen_c_kk', 'gen_c_rr', 'gen_c_nn', 'gen_ll_cHel']\n",
    "\n",
    "# Define Wilson coefficient (WC)\n",
    "WILSON_COEFFS = ['ctGRe']\n",
    "\n",
    "# Load the structure constant file for EFT weights\n",
    "SC_saved = np.load('/depot/cms/top/bhanda25/EFT_minitree/Stored_SC/Stored_SC_541k.npy', allow_pickle=True)\n",
    "\n",
    "# Define the Wilson coefficient range\n",
    "N = 7  # Number of WC hypotheses\n",
    "wc_range = np.linspace(-1, 1, N)  # Range of ctGRe values\n",
    "\n",
    "# SM event weights\n",
    "weight_sm = file['mgWeights'][:,200]  # SM event weights\n",
    "\n",
    "# Prepare event datasets\n",
    "df_list = []\n",
    "for wc_value in wc_range:\n",
    "    wc_vector = [0] * 16  # Assume a 16-dimensional Wilson coefficient space\n",
    "    wc_vector[0] = wc_value  # Modify only the relevant WC\n",
    "\n",
    "    # Compute EFT event weights\n",
    "    weight_eft, _, _ = event_weights_lin_quad(SC_saved, wc_vector)\n",
    "\n",
    "    # Apply the event weights directly to the observables\n",
    "    df = pd.DataFrame({var: file[var] * weight_eft for var in VARS})  # Scale observables\n",
    "    df['ctGRe'] = wc_value  # Save WC value\n",
    "    df['isSignal'] = np.ones(len(df))  # Label as EFT\n",
    "\n",
    "    df_list.append(df)\n",
    "\n",
    "# Combine all generated EFT datasets\n",
    "df_total = pd.concat(df_list)\n",
    "\n",
    "# Duplicate for SM (without reweighting)\n",
    "df_sm = pd.DataFrame({var: file[var]*weight_sm for var in VARS})\n",
    "df_sm['ctGRe'] = 0.0  # SM corresponds to ctGRe=0\n",
    "df_sm['isSignal'] = np.zeros(len(df_sm))  # Label as SM\n",
    "\n",
    "# Combine SM and EFT datasets\n",
    "df_all = pd.concat([df_total, df_sm])\n",
    "\n",
    "# ============================\n",
    "# STEP 2: COMPUTE EVENT WEIGHTS\n",
    "# ============================\n",
    "import sys\n",
    "sys.path.append('/depot/cms/top/bhanda25/EFT_minitree')\n",
    "\n",
    "from Event_weight_prediction import *\n",
    "import numpy as np\n",
    "import pandas as pd\n",
    "\n",
    "# Define the observables (features)\n",
    "VARS = ['gen_ttbar_mass', 'gen_c_kk', 'gen_c_rr', 'gen_c_nn', 'gen_ll_cHel']\n",
    "\n",
    "# Define Wilson coefficient (WC)\n",
    "WILSON_COEFFS = ['ctGRe']\n",
    "\n",
    "# Load the structure constant file for EFT weights\n",
    "SC_saved = np.load('/depot/cms/top/bhanda25/EFT_minitree/Stored_SC/Stored_SC_541k.npy', allow_pickle=True)\n",
    "\n",
    "# Define the Wilson coefficient range\n",
    "N = 7  # Number of WC hypotheses\n",
    "wc_range = np.linspace(-1, 1, N)  # Range of ctGRe values\n",
    "\n",
    "# SM event weights\n",
    "weight_sm = file['mgWeights'][:, 200]  # SM event weights\n",
    "\n",
    "# Prepare event datasets\n",
    "df_list = []\n",
    "for wc_value in wc_range:\n",
    "    wc_vector = [0] * 16  # Assume a 16-dimensional Wilson coefficient space\n",
    "    wc_vector[0] = wc_value  # Modify only the relevant WC\n",
    "\n",
    "    # Compute EFT event weights\n",
    "    weight_eft, _, _ = event_weights_lin_quad(SC_saved, wc_vector)\n",
    "\n",
    "    # Apply the event weights directly to the observables\n",
    "    df = pd.DataFrame({var: file[var] * weight_eft for var in VARS})  # Scale observables\n",
    "    df['ctGRe'] = wc_value  # Save WC value\n",
    "    df['isSignal'] = np.ones(len(df))  # Label as EFT\n",
    "\n",
    "    df_list.append(df)\n",
    "\n",
    "# Combine all generated EFT datasets\n",
    "df_total = pd.concat(df_list)\n",
    "\n",
    "# Duplicate for SM (without reweighting)\n",
    "df_sm = pd.DataFrame({var: file[var] * weight_sm for var in VARS})\n",
    "df_sm['ctGRe'] = 0.0  # SM corresponds to ctGRe=0\n",
    "df_sm['isSignal'] = np.zeros(len(df_sm))  # Label as SM\n",
    "\n",
    "# Combine SM and EFT datasets\n",
    "df_all = pd.concat([df_total, df_sm])\n",
    "\n"
   ]
  },
  {
   "cell_type": "code",
   "execution_count": 79,
   "id": "ca04cf21-c080-4bf8-8b4c-31d705085e18",
   "metadata": {},
   "outputs": [
    {
     "data": {
      "text/plain": [
       "[         gen_ttbar_mass  gen_c_kk  gen_c_rr  gen_c_nn  gen_ll_cHel  ctGRe  \\\n",
       " 0            429.420887 -0.038539 -1.079634 -0.008029     1.126201   -1.0   \n",
       " 1            356.416060  0.080572 -0.186362 -0.447284     0.553074   -1.0   \n",
       " 2            610.701716 -0.039432 -0.238619 -0.595467     0.873518   -1.0   \n",
       " 3            259.185282  0.083096  0.228662 -0.090293    -0.221465   -1.0   \n",
       " 4            455.147988 -0.032020  0.339527 -0.098606    -0.208902   -1.0   \n",
       " ...                 ...       ...       ...       ...          ...    ...   \n",
       " 5471297       89.949653 -0.001406  0.002020  0.007854    -0.008468   -1.0   \n",
       " 5471298        5.782186  0.002979  0.001417  0.000365    -0.004761   -1.0   \n",
       " 5471299       19.472427 -0.000462  0.003813 -0.008925     0.005574   -1.0   \n",
       " 5471300       29.063885 -0.003762  0.008483  0.002932    -0.007653   -1.0   \n",
       " 5471301       16.103835  0.009465 -0.000119 -0.003041    -0.006305   -1.0   \n",
       " \n",
       "          isSignal  \n",
       " 0             1.0  \n",
       " 1             1.0  \n",
       " 2             1.0  \n",
       " 3             1.0  \n",
       " 4             1.0  \n",
       " ...           ...  \n",
       " 5471297       1.0  \n",
       " 5471298       1.0  \n",
       " 5471299       1.0  \n",
       " 5471300       1.0  \n",
       " 5471301       1.0  \n",
       " \n",
       " [5471302 rows x 7 columns],\n",
       "          gen_ttbar_mass  gen_c_kk  gen_c_rr  gen_c_nn  gen_ll_cHel     ctGRe  \\\n",
       " 0            387.032321 -0.034734 -0.973062 -0.007236     1.015033 -0.666667   \n",
       " 1            326.351859  0.073776 -0.170643 -0.409555     0.506421 -0.666667   \n",
       " 2            577.594624 -0.037294 -0.225683 -0.563186     0.826164 -0.666667   \n",
       " 3            239.086794  0.076653  0.210931 -0.083291    -0.204292 -0.666667   \n",
       " 4            416.555224 -0.029305  0.310738 -0.090245    -0.191189 -0.666667   \n",
       " ...                 ...       ...       ...       ...          ...       ...   \n",
       " 5471297       74.994887 -0.001172  0.001684  0.006548    -0.007060 -0.666667   \n",
       " 5471298        5.666056  0.002919  0.001388  0.000357    -0.004665 -0.666667   \n",
       " 5471299       17.890215 -0.000424  0.003503 -0.008200     0.005121 -0.666667   \n",
       " 5471300       23.114075 -0.002992  0.006747  0.002332    -0.006087 -0.666667   \n",
       " 5471301       14.761904  0.008676 -0.000109 -0.002788    -0.005780 -0.666667   \n",
       " \n",
       "          isSignal  \n",
       " 0             1.0  \n",
       " 1             1.0  \n",
       " 2             1.0  \n",
       " 3             1.0  \n",
       " 4             1.0  \n",
       " ...           ...  \n",
       " 5471297       1.0  \n",
       " 5471298       1.0  \n",
       " 5471299       1.0  \n",
       " 5471300       1.0  \n",
       " 5471301       1.0  \n",
       " \n",
       " [5471302 rows x 7 columns],\n",
       "          gen_ttbar_mass  gen_c_kk  gen_c_rr  gen_c_nn  gen_ll_cHel     ctGRe  \\\n",
       " 0            347.113378 -0.031152 -0.872699 -0.006490     0.910341 -0.333333   \n",
       " 1            298.025340  0.067372 -0.155831 -0.374007     0.462465 -0.333333   \n",
       " 2            546.076260 -0.035259 -0.213368 -0.532454     0.781081 -0.333333   \n",
       " 3            219.800264  0.070469  0.193916 -0.076573    -0.187812 -0.333333   \n",
       " 4            380.253443 -0.026751  0.283658 -0.082380    -0.174527 -0.333333   \n",
       " ...                 ...       ...       ...       ...          ...       ...   \n",
       " 5471297       61.406260 -0.000960  0.001379  0.005362    -0.005781 -0.333333   \n",
       " 5471298        5.557432  0.002863  0.001362  0.000350    -0.004575 -0.333333   \n",
       " 5471299       16.377462 -0.000388  0.003207 -0.007506     0.004688 -0.333333   \n",
       " 5471300       17.896931 -0.002316  0.005224  0.001805    -0.004713 -0.333333   \n",
       " 5471301       13.479912  0.007923 -0.000099 -0.002546    -0.005278 -0.333333   \n",
       " \n",
       "          isSignal  \n",
       " 0             1.0  \n",
       " 1             1.0  \n",
       " 2             1.0  \n",
       " 3             1.0  \n",
       " 4             1.0  \n",
       " ...           ...  \n",
       " 5471297       1.0  \n",
       " 5471298       1.0  \n",
       " 5471299       1.0  \n",
       " 5471300       1.0  \n",
       " 5471301       1.0  \n",
       " \n",
       " [5471302 rows x 7 columns],\n",
       "          gen_ttbar_mass  gen_c_kk  gen_c_rr  gen_c_nn  gen_ll_cHel  ctGRe  \\\n",
       " 0            309.664059 -0.027791 -0.778546 -0.005790     0.812126    0.0   \n",
       " 1            271.436504  0.061362 -0.141928 -0.340639     0.421206    0.0   \n",
       " 2            516.146623 -0.033327 -0.201673 -0.503271     0.738271    0.0   \n",
       " 3            201.325692  0.064546  0.177617 -0.070137    -0.172026    0.0   \n",
       " 4            346.242646 -0.024358  0.258287 -0.075012    -0.158917    0.0   \n",
       " ...                 ...       ...       ...       ...          ...    ...   \n",
       " 5471297       49.183771 -0.000769  0.001104  0.004295    -0.004630    0.0   \n",
       " 5471298        5.456313  0.002811  0.001337  0.000344    -0.004492    0.0   \n",
       " 5471299       14.934169 -0.000354  0.002924 -0.006845     0.004275    0.0   \n",
       " 5471300       13.412454 -0.001736  0.003915  0.001353    -0.003532    0.0   \n",
       " 5471301       12.257858  0.007205 -0.000090 -0.002315    -0.004799    0.0   \n",
       " \n",
       "          isSignal  \n",
       " 0             1.0  \n",
       " 1             1.0  \n",
       " 2             1.0  \n",
       " 3             1.0  \n",
       " 4             1.0  \n",
       " ...           ...  \n",
       " 5471297       1.0  \n",
       " 5471298       1.0  \n",
       " 5471299       1.0  \n",
       " 5471300       1.0  \n",
       " 5471301       1.0  \n",
       " \n",
       " [5471302 rows x 7 columns],\n",
       "          gen_ttbar_mass  gen_c_kk  gen_c_rr  gen_c_nn  gen_ll_cHel     ctGRe  \\\n",
       " 0            274.684364 -0.024652 -0.690601 -0.005136     0.720388  0.333333   \n",
       " 1            246.585350  0.055744 -0.128934 -0.309452     0.382643  0.333333   \n",
       " 2            487.805714 -0.031497 -0.190600 -0.475637     0.697734  0.333333   \n",
       " 3            183.663078  0.058883  0.162034 -0.063983    -0.156934  0.333333   \n",
       " 4            314.522832 -0.022127  0.234625 -0.068140    -0.144358  0.333333   \n",
       " ...                 ...       ...       ...       ...          ...       ...   \n",
       " 5471297       38.327422 -0.000599  0.000861  0.003347    -0.003608  0.333333   \n",
       " 5471298        5.362699  0.002763  0.001314  0.000338    -0.004415  0.333333   \n",
       " 5471299       13.560335 -0.000322  0.002655 -0.006215     0.003881  0.333333   \n",
       " 5471300        9.660644 -0.001250  0.002820  0.000975    -0.002544  0.333333   \n",
       " 5471301       11.095742  0.006522 -0.000082 -0.002095    -0.004344  0.333333   \n",
       " \n",
       "          isSignal  \n",
       " 0             1.0  \n",
       " 1             1.0  \n",
       " 2             1.0  \n",
       " 3             1.0  \n",
       " 4             1.0  \n",
       " ...           ...  \n",
       " 5471297       1.0  \n",
       " 5471298       1.0  \n",
       " 5471299       1.0  \n",
       " 5471300       1.0  \n",
       " 5471301       1.0  \n",
       " \n",
       " [5471302 rows x 7 columns],\n",
       "          gen_ttbar_mass  gen_c_kk  gen_c_rr  gen_c_nn  gen_ll_cHel     ctGRe  \\\n",
       " 0            242.174293 -0.021734 -0.608866 -0.004528     0.635127  0.666667   \n",
       " 1            223.471878  0.050519 -0.116849 -0.280446     0.346776  0.666667   \n",
       " 2            461.053532 -0.029770 -0.180147 -0.449552     0.659469  0.666667   \n",
       " 3            166.812423  0.053481  0.147168 -0.058113    -0.142536  0.666667   \n",
       " 4            285.094003 -0.020056  0.212672 -0.061764    -0.130851  0.666667   \n",
       " ...                 ...       ...       ...       ...          ...       ...   \n",
       " 5471297       28.837211 -0.000451  0.000648  0.002518    -0.002715  0.666667   \n",
       " 5471298        5.276590  0.002719  0.001293  0.000333    -0.004344  0.666667   \n",
       " 5471299       12.255961 -0.000291  0.002400 -0.005617     0.003508  0.666667   \n",
       " 5471300        6.641501 -0.000860  0.001939  0.000670    -0.001749  0.666667   \n",
       " 5471301        9.993565  0.005874 -0.000074 -0.001887    -0.003913  0.666667   \n",
       " \n",
       "          isSignal  \n",
       " 0             1.0  \n",
       " 1             1.0  \n",
       " 2             1.0  \n",
       " 3             1.0  \n",
       " 4             1.0  \n",
       " ...           ...  \n",
       " 5471297       1.0  \n",
       " 5471298       1.0  \n",
       " 5471299       1.0  \n",
       " 5471300       1.0  \n",
       " 5471301       1.0  \n",
       " \n",
       " [5471302 rows x 7 columns],\n",
       "          gen_ttbar_mass  gen_c_kk  gen_c_rr  gen_c_nn  gen_ll_cHel  ctGRe  \\\n",
       " 0            212.133845 -0.019038 -0.533339 -0.003966     0.556343    1.0   \n",
       " 1            202.096089  0.045686 -0.105672 -0.253620     0.313606    1.0   \n",
       " 2            435.890077 -0.028145 -0.170315 -0.425017     0.623476    1.0   \n",
       " 3            150.773725  0.048339  0.133018 -0.052526    -0.128831    1.0   \n",
       " 4            257.956157 -0.018147  0.192428 -0.055885    -0.118396    1.0   \n",
       " ...                 ...       ...       ...       ...          ...    ...   \n",
       " 5471297       20.713140 -0.000324  0.000465  0.001809    -0.001950    1.0   \n",
       " 5471298        5.197986  0.002678  0.001274  0.000328    -0.004280    1.0   \n",
       " 5471299       11.021047 -0.000261  0.002158 -0.005051     0.003155    1.0   \n",
       " 5471300        4.355024 -0.000564  0.001271  0.000439    -0.001147    1.0   \n",
       " 5471301        8.951326  0.005261 -0.000066 -0.001690    -0.003505    1.0   \n",
       " \n",
       "          isSignal  \n",
       " 0             1.0  \n",
       " 1             1.0  \n",
       " 2             1.0  \n",
       " 3             1.0  \n",
       " 4             1.0  \n",
       " ...           ...  \n",
       " 5471297       1.0  \n",
       " 5471298       1.0  \n",
       " 5471299       1.0  \n",
       " 5471300       1.0  \n",
       " 5471301       1.0  \n",
       " \n",
       " [5471302 rows x 7 columns]]"
      ]
     },
     "execution_count": 79,
     "metadata": {},
     "output_type": "execute_result"
    }
   ],
   "source": [
    "df_list"
   ]
  },
  {
   "cell_type": "code",
   "execution_count": 68,
   "id": "56dbdb00-7256-4be1-9ac8-f938ce35e504",
   "metadata": {},
   "outputs": [],
   "source": [
    "# ============================\n",
    "# STEP 3: LIMIT TOTAL EVENTS TO 500,000\n",
    "# ============================\n",
    "\n",
    "MAX_EVENTS = 50000  # Limit on total number of events\n",
    "\n",
    "# Shuffle dataset before sampling\n",
    "df_all = df_all.sample(frac=1, random_state=42).reset_index(drop=True)\n",
    "\n",
    "# Ensure we do not exceed 500,000 events\n",
    "if len(df_all) > MAX_EVENTS:\n",
    "    df_all = df_all.sample(n=MAX_EVENTS, random_state=42)"
   ]
  },
  {
   "cell_type": "code",
   "execution_count": 69,
   "id": "e61ef402-3f2e-49a2-bb6b-6331f59012b3",
   "metadata": {},
   "outputs": [
    {
     "data": {
      "text/html": [
       "<div>\n",
       "<style scoped>\n",
       "    .dataframe tbody tr th:only-of-type {\n",
       "        vertical-align: middle;\n",
       "    }\n",
       "\n",
       "    .dataframe tbody tr th {\n",
       "        vertical-align: top;\n",
       "    }\n",
       "\n",
       "    .dataframe thead th {\n",
       "        text-align: right;\n",
       "    }\n",
       "</style>\n",
       "<table border=\"1\" class=\"dataframe\">\n",
       "  <thead>\n",
       "    <tr style=\"text-align: right;\">\n",
       "      <th></th>\n",
       "      <th>gen_ttbar_mass</th>\n",
       "      <th>gen_c_kk</th>\n",
       "      <th>gen_c_rr</th>\n",
       "      <th>gen_c_nn</th>\n",
       "      <th>gen_ll_cHel</th>\n",
       "      <th>ctGRe</th>\n",
       "      <th>isSignal</th>\n",
       "    </tr>\n",
       "  </thead>\n",
       "  <tbody>\n",
       "    <tr>\n",
       "      <th>104241</th>\n",
       "      <td>251.961909</td>\n",
       "      <td>-0.398560</td>\n",
       "      <td>0.101106</td>\n",
       "      <td>0.086903</td>\n",
       "      <td>0.210550</td>\n",
       "      <td>0.666667</td>\n",
       "      <td>1.0</td>\n",
       "    </tr>\n",
       "    <tr>\n",
       "      <th>199676</th>\n",
       "      <td>1.740917</td>\n",
       "      <td>0.001271</td>\n",
       "      <td>0.000002</td>\n",
       "      <td>-0.000030</td>\n",
       "      <td>-0.001243</td>\n",
       "      <td>-0.666667</td>\n",
       "      <td>1.0</td>\n",
       "    </tr>\n",
       "    <tr>\n",
       "      <th>140199</th>\n",
       "      <td>12.847911</td>\n",
       "      <td>-0.000881</td>\n",
       "      <td>0.000068</td>\n",
       "      <td>0.004428</td>\n",
       "      <td>-0.003615</td>\n",
       "      <td>0.000000</td>\n",
       "      <td>0.0</td>\n",
       "    </tr>\n",
       "    <tr>\n",
       "      <th>132814</th>\n",
       "      <td>0.786452</td>\n",
       "      <td>0.000000</td>\n",
       "      <td>-0.000000</td>\n",
       "      <td>0.000000</td>\n",
       "      <td>-0.000000</td>\n",
       "      <td>1.000000</td>\n",
       "      <td>1.0</td>\n",
       "    </tr>\n",
       "    <tr>\n",
       "      <th>408697</th>\n",
       "      <td>262.698151</td>\n",
       "      <td>0.192750</td>\n",
       "      <td>-0.169125</td>\n",
       "      <td>0.161008</td>\n",
       "      <td>-0.184632</td>\n",
       "      <td>0.000000</td>\n",
       "      <td>0.0</td>\n",
       "    </tr>\n",
       "    <tr>\n",
       "      <th>...</th>\n",
       "      <td>...</td>\n",
       "      <td>...</td>\n",
       "      <td>...</td>\n",
       "      <td>...</td>\n",
       "      <td>...</td>\n",
       "      <td>...</td>\n",
       "      <td>...</td>\n",
       "    </tr>\n",
       "    <tr>\n",
       "      <th>100088</th>\n",
       "      <td>797.118658</td>\n",
       "      <td>-0.809074</td>\n",
       "      <td>0.050113</td>\n",
       "      <td>-0.111360</td>\n",
       "      <td>0.870320</td>\n",
       "      <td>-1.000000</td>\n",
       "      <td>1.0</td>\n",
       "    </tr>\n",
       "    <tr>\n",
       "      <th>156438</th>\n",
       "      <td>370.186328</td>\n",
       "      <td>0.002600</td>\n",
       "      <td>0.513027</td>\n",
       "      <td>-0.051450</td>\n",
       "      <td>-0.464177</td>\n",
       "      <td>0.666667</td>\n",
       "      <td>1.0</td>\n",
       "    </tr>\n",
       "    <tr>\n",
       "      <th>306204</th>\n",
       "      <td>855.563412</td>\n",
       "      <td>-0.141999</td>\n",
       "      <td>-0.190579</td>\n",
       "      <td>0.569371</td>\n",
       "      <td>-0.236793</td>\n",
       "      <td>-1.000000</td>\n",
       "      <td>1.0</td>\n",
       "    </tr>\n",
       "    <tr>\n",
       "      <th>8817</th>\n",
       "      <td>756.168800</td>\n",
       "      <td>0.000000</td>\n",
       "      <td>-0.000000</td>\n",
       "      <td>0.000000</td>\n",
       "      <td>0.000000</td>\n",
       "      <td>-0.666667</td>\n",
       "      <td>1.0</td>\n",
       "    </tr>\n",
       "    <tr>\n",
       "      <th>265640</th>\n",
       "      <td>76.215300</td>\n",
       "      <td>0.016068</td>\n",
       "      <td>0.018254</td>\n",
       "      <td>-0.000048</td>\n",
       "      <td>-0.034274</td>\n",
       "      <td>-1.000000</td>\n",
       "      <td>1.0</td>\n",
       "    </tr>\n",
       "  </tbody>\n",
       "</table>\n",
       "<p>50000 rows × 7 columns</p>\n",
       "</div>"
      ],
      "text/plain": [
       "        gen_ttbar_mass  gen_c_kk  gen_c_rr  gen_c_nn  gen_ll_cHel     ctGRe  \\\n",
       "104241      251.961909 -0.398560  0.101106  0.086903     0.210550  0.666667   \n",
       "199676        1.740917  0.001271  0.000002 -0.000030    -0.001243 -0.666667   \n",
       "140199       12.847911 -0.000881  0.000068  0.004428    -0.003615  0.000000   \n",
       "132814        0.786452  0.000000 -0.000000  0.000000    -0.000000  1.000000   \n",
       "408697      262.698151  0.192750 -0.169125  0.161008    -0.184632  0.000000   \n",
       "...                ...       ...       ...       ...          ...       ...   \n",
       "100088      797.118658 -0.809074  0.050113 -0.111360     0.870320 -1.000000   \n",
       "156438      370.186328  0.002600  0.513027 -0.051450    -0.464177  0.666667   \n",
       "306204      855.563412 -0.141999 -0.190579  0.569371    -0.236793 -1.000000   \n",
       "8817        756.168800  0.000000 -0.000000  0.000000     0.000000 -0.666667   \n",
       "265640       76.215300  0.016068  0.018254 -0.000048    -0.034274 -1.000000   \n",
       "\n",
       "        isSignal  \n",
       "104241       1.0  \n",
       "199676       1.0  \n",
       "140199       0.0  \n",
       "132814       1.0  \n",
       "408697       0.0  \n",
       "...          ...  \n",
       "100088       1.0  \n",
       "156438       1.0  \n",
       "306204       1.0  \n",
       "8817         1.0  \n",
       "265640       1.0  \n",
       "\n",
       "[50000 rows x 7 columns]"
      ]
     },
     "execution_count": 69,
     "metadata": {},
     "output_type": "execute_result"
    }
   ],
   "source": [
    "df_all"
   ]
  },
  {
   "cell_type": "code",
   "execution_count": 73,
   "id": "bc51e1e5-8dbe-4b7d-a503-128de40a65a9",
   "metadata": {},
   "outputs": [],
   "source": [
    "# ============================\n",
    "# STEP 3: PREPROCESS DATA\n",
    "# ============================\n",
    "\n",
    "# Split into training and test sets\n",
    "df_train, df_test = train_test_split(df_all, test_size=0.2, random_state=42)\n",
    "\n",
    "# Extract features (observables + Wilson coefficients) and labels\n",
    "X_train, y_train = df_train[VARS + WILSON_COEFFS].values, df_train[\"isSignal\"].values\n",
    "X_test, y_test = df_test[VARS + WILSON_COEFFS].values, df_test[\"isSignal\"].values\n",
    "\n",
    "# Apply standard scaling\n",
    "scaler = StandardScaler()\n",
    "X_train = scaler.fit_transform(X_train)\n",
    "X_test = scaler.transform(X_test)\n",
    "\n",
    "# Convert to PyTorch tensors\n",
    "X_train_tensor = torch.tensor(X_train, dtype=torch.float32)\n",
    "y_train_tensor = torch.tensor(y_train, dtype=torch.float32).view(-1, 1)\n",
    "X_test_tensor = torch.tensor(X_test, dtype=torch.float32)\n",
    "y_test_tensor = torch.tensor(y_test, dtype=torch.float32).view(-1, 1)\n"
   ]
  },
  {
   "cell_type": "code",
   "execution_count": 74,
   "id": "8a1f05d1-45b3-449a-bdd3-5e765e1990d0",
   "metadata": {},
   "outputs": [
    {
     "data": {
      "text/plain": [
       "tensor([[ 0.3405,  1.2132,  1.4022,  0.4492, -1.7552,  0.0050],\n",
       "        [-1.0255,  0.0554,  0.0901,  0.0825, -0.1309,  0.0050],\n",
       "        [ 0.8736, -0.6613,  0.2571,  0.6380, -0.1376,  0.0050],\n",
       "        ...,\n",
       "        [-1.1368,  0.0629, -0.0117,  0.0826, -0.0771,  0.0050],\n",
       "        [-0.2128,  0.7674, -0.3801, -1.2756,  0.5161,  0.5400],\n",
       "        [-0.1573,  0.0622, -0.4709, -1.2982,  0.9846,  0.5400]])"
      ]
     },
     "execution_count": 74,
     "metadata": {},
     "output_type": "execute_result"
    }
   ],
   "source": [
    "X_train_tensor"
   ]
  },
  {
   "cell_type": "code",
   "execution_count": 75,
   "id": "7b17b94c-13b8-4ceb-8159-ad7845c2a352",
   "metadata": {},
   "outputs": [],
   "source": [
    "# ============================\n",
    "# STEP 4: DEFINE PARAMETERIZED CLASSIFIER\n",
    "# ============================\n",
    "\n",
    "class ParamLikelihoodClassifier(nn.Module):\n",
    "    def __init__(self, input_dim):\n",
    "        super().__init__()\n",
    "        self.model = nn.Sequential(\n",
    "            nn.Linear(input_dim, 10),\n",
    "            nn.ReLU(),\n",
    "            nn.Linear(10, 1),\n",
    "            nn.Sigmoid()\n",
    "        )\n",
    "\n",
    "    def forward(self, x):\n",
    "        return self.model(x)\n",
    "\n",
    "# Initialize model, loss, and optimizer\n",
    "input_size = len(VARS) + len(WILSON_COEFFS)\n",
    "model = ParamLikelihoodClassifier(input_size)\n",
    "loss_fn =  nn.BCELoss()  # Training in log-likelihood space\n",
    "optimizer = optim.Adam(model.parameters(), lr=0.01)\n"
   ]
  },
  {
   "cell_type": "code",
   "execution_count": 76,
   "id": "bdb36213-0acf-44ad-8400-6dcb6386270d",
   "metadata": {},
   "outputs": [
    {
     "name": "stderr",
     "output_type": "stream",
     "text": [
      "Epoch Progress:   5%|▌         | 1/20 [00:05<01:37,  5.14s/epoch]"
     ]
    },
    {
     "name": "stdout",
     "output_type": "stream",
     "text": [
      "Epoch 1/20 - Training Loss: 0.5034\n"
     ]
    },
    {
     "name": "stderr",
     "output_type": "stream",
     "text": [
      "Epoch Progress:  10%|█         | 2/20 [00:10<01:32,  5.11s/epoch]"
     ]
    },
    {
     "name": "stdout",
     "output_type": "stream",
     "text": [
      "Epoch 2/20 - Training Loss: 0.3515\n"
     ]
    },
    {
     "name": "stderr",
     "output_type": "stream",
     "text": [
      "Epoch Progress:  15%|█▌        | 3/20 [00:15<01:26,  5.12s/epoch]"
     ]
    },
    {
     "name": "stdout",
     "output_type": "stream",
     "text": [
      "Epoch 3/20 - Training Loss: 0.2949\n"
     ]
    },
    {
     "name": "stderr",
     "output_type": "stream",
     "text": [
      "Epoch Progress:  20%|██        | 4/20 [00:20<01:22,  5.14s/epoch]"
     ]
    },
    {
     "name": "stdout",
     "output_type": "stream",
     "text": [
      "Epoch 4/20 - Training Loss: 0.2251\n"
     ]
    },
    {
     "name": "stderr",
     "output_type": "stream",
     "text": [
      "Epoch Progress:  25%|██▌       | 5/20 [00:25<01:16,  5.13s/epoch]"
     ]
    },
    {
     "name": "stdout",
     "output_type": "stream",
     "text": [
      "Epoch 5/20 - Training Loss: 0.1974\n"
     ]
    },
    {
     "name": "stderr",
     "output_type": "stream",
     "text": [
      "Epoch Progress:  30%|███       | 6/20 [00:30<01:12,  5.16s/epoch]"
     ]
    },
    {
     "name": "stdout",
     "output_type": "stream",
     "text": [
      "Epoch 6/20 - Training Loss: 0.1859\n"
     ]
    },
    {
     "name": "stderr",
     "output_type": "stream",
     "text": [
      "Epoch Progress:  35%|███▌      | 7/20 [00:35<01:06,  5.13s/epoch]"
     ]
    },
    {
     "name": "stdout",
     "output_type": "stream",
     "text": [
      "Epoch 7/20 - Training Loss: 0.1806\n"
     ]
    },
    {
     "name": "stderr",
     "output_type": "stream",
     "text": [
      "Epoch Progress:  40%|████      | 8/20 [00:41<01:01,  5.16s/epoch]"
     ]
    },
    {
     "name": "stdout",
     "output_type": "stream",
     "text": [
      "Epoch 8/20 - Training Loss: 0.1796\n"
     ]
    },
    {
     "name": "stderr",
     "output_type": "stream",
     "text": [
      "Epoch Progress:  45%|████▌     | 9/20 [00:46<00:57,  5.20s/epoch]"
     ]
    },
    {
     "name": "stdout",
     "output_type": "stream",
     "text": [
      "Epoch 9/20 - Training Loss: 0.1765\n"
     ]
    },
    {
     "name": "stderr",
     "output_type": "stream",
     "text": [
      "Epoch Progress:  50%|█████     | 10/20 [00:51<00:52,  5.20s/epoch]"
     ]
    },
    {
     "name": "stdout",
     "output_type": "stream",
     "text": [
      "Epoch 10/20 - Training Loss: 0.1756\n"
     ]
    },
    {
     "name": "stderr",
     "output_type": "stream",
     "text": [
      "Epoch Progress:  55%|█████▌    | 11/20 [00:56<00:45,  5.05s/epoch]"
     ]
    },
    {
     "name": "stdout",
     "output_type": "stream",
     "text": [
      "Epoch 11/20 - Training Loss: 0.1763\n"
     ]
    },
    {
     "name": "stderr",
     "output_type": "stream",
     "text": [
      "Epoch Progress:  60%|██████    | 12/20 [00:58<00:33,  4.21s/epoch]"
     ]
    },
    {
     "name": "stdout",
     "output_type": "stream",
     "text": [
      "Epoch 12/20 - Training Loss: 0.1752\n"
     ]
    },
    {
     "name": "stderr",
     "output_type": "stream",
     "text": [
      "Epoch Progress:  65%|██████▌   | 13/20 [01:02<00:28,  4.02s/epoch]"
     ]
    },
    {
     "name": "stdout",
     "output_type": "stream",
     "text": [
      "Epoch 13/20 - Training Loss: 0.1744\n"
     ]
    },
    {
     "name": "stderr",
     "output_type": "stream",
     "text": [
      "Epoch Progress:  70%|███████   | 14/20 [01:03<00:19,  3.26s/epoch]"
     ]
    },
    {
     "name": "stdout",
     "output_type": "stream",
     "text": [
      "Epoch 14/20 - Training Loss: 0.1740\n"
     ]
    },
    {
     "name": "stderr",
     "output_type": "stream",
     "text": [
      "Epoch Progress:  75%|███████▌  | 15/20 [01:04<00:12,  2.52s/epoch]"
     ]
    },
    {
     "name": "stdout",
     "output_type": "stream",
     "text": [
      "Epoch 15/20 - Training Loss: 0.1746\n"
     ]
    },
    {
     "name": "stderr",
     "output_type": "stream",
     "text": [
      "Epoch Progress:  80%|████████  | 16/20 [01:06<00:09,  2.27s/epoch]"
     ]
    },
    {
     "name": "stdout",
     "output_type": "stream",
     "text": [
      "Epoch 16/20 - Training Loss: 0.1736\n"
     ]
    },
    {
     "name": "stderr",
     "output_type": "stream",
     "text": [
      "Epoch Progress:  85%|████████▌ | 17/20 [01:08<00:07,  2.34s/epoch]"
     ]
    },
    {
     "name": "stdout",
     "output_type": "stream",
     "text": [
      "Epoch 17/20 - Training Loss: 0.1729\n"
     ]
    },
    {
     "name": "stderr",
     "output_type": "stream",
     "text": [
      "Epoch Progress:  90%|█████████ | 18/20 [01:09<00:03,  1.94s/epoch]"
     ]
    },
    {
     "name": "stdout",
     "output_type": "stream",
     "text": [
      "Epoch 18/20 - Training Loss: 0.1719\n"
     ]
    },
    {
     "name": "stderr",
     "output_type": "stream",
     "text": [
      "Epoch Progress:  95%|█████████▌| 19/20 [01:10<00:01,  1.66s/epoch]"
     ]
    },
    {
     "name": "stdout",
     "output_type": "stream",
     "text": [
      "Epoch 19/20 - Training Loss: 0.1724\n"
     ]
    },
    {
     "name": "stderr",
     "output_type": "stream",
     "text": [
      "Epoch Progress: 100%|██████████| 20/20 [01:13<00:00,  3.68s/epoch]"
     ]
    },
    {
     "name": "stdout",
     "output_type": "stream",
     "text": [
      "Epoch 20/20 - Training Loss: 0.1721\n"
     ]
    },
    {
     "name": "stderr",
     "output_type": "stream",
     "text": [
      "\n"
     ]
    }
   ],
   "source": [
    "# ============================\n",
    "# STEP 4: TRAIN THE CLASSIFIER\n",
    "# ============================\n",
    "from tqdm import tqdm \n",
    "batch_size = 1024\n",
    "epochs = 20\n",
    "\n",
    "# Prepare data loaders\n",
    "train_dataset = torch.utils.data.TensorDataset(X_train_tensor, y_train_tensor)\n",
    "train_loader = DataLoader(train_dataset, batch_size=batch_size, shuffle=True)\n",
    "\n",
    "# Track loss\n",
    "train_losses = []\n",
    "\n",
    "# Training loop\n",
    "for epoch in tqdm(range(epochs), desc=\"Epoch Progress\", unit=\"epoch\"):\n",
    "    model.train()\n",
    "    batch_loss = []\n",
    "\n",
    "    for X_batch, y_batch in train_loader:\n",
    "        # Forward pass\n",
    "        y_pred = model(X_batch)\n",
    "        loss = loss_fn(y_pred, y_batch)\n",
    "        batch_loss.append(loss.item())\n",
    "\n",
    "        # Backward pass\n",
    "        optimizer.zero_grad()\n",
    "        loss.backward()\n",
    "        optimizer.step()\n",
    "\n",
    "    avg_loss = np.mean(batch_loss)\n",
    "    train_losses.append(avg_loss)\n",
    "    print(f\"Epoch {epoch+1}/{epochs} - Training Loss: {avg_loss:.4f}\")\n",
    "\n"
   ]
  },
  {
   "cell_type": "code",
   "execution_count": 78,
   "id": "81cf8fb0-41fc-4a0b-bbd3-315a70fd9690",
   "metadata": {},
   "outputs": [
    {
     "data": {
      "image/png": "[encoded data removed]",
      "text/plain": [
       "<Figure size 800x500 with 1 Axes>"
      ]
     },
     "metadata": {},
     "output_type": "display_data"
    },
    {
     "data": {
      "image/png": "[encoded data removed]",
      "text/plain": [
       "<Figure size 800x500 with 1 Axes>"
      ]
     },
     "metadata": {},
     "output_type": "display_data"
    },
    {
     "name": "stdout",
     "output_type": "stream",
     "text": [
      "Likelihood Ratio Computation Complete ✅\n"
     ]
    }
   ],
   "source": [
    "# ============================\n",
    "# STEP 5: EVALUATE MODEL\n",
    "# ============================\n",
    "\n",
    "model.eval()\n",
    "with torch.no_grad():\n",
    "    s_test = model(X_test_tensor).numpy()\n",
    "    s_train = model(X_train_tensor).numpy()\n",
    "\n",
    "\n",
    "# ============================\n",
    "# STEP 6: COMPUTE LIKELIHOOD RATIO\n",
    "# ============================\n",
    "\n",
    "def compute_likelihood_ratio(s):\n",
    "    \"\"\"Compute likelihood ratio R(x) = (1 - s) / s\"\"\"\n",
    "    return np.divide(1 - s, s, out=np.zeros_like(s), where=s != 0)\n",
    "\n",
    "# Compute likelihood ratios\n",
    "likelihood_ratio_test = compute_likelihood_ratio(s_test)\n",
    "log_likelihood_ratio_test = np.log(likelihood_ratio_test + 1e-10)  # Avoid log(0)\n",
    "\n",
    "# ============================\n",
    "# STEP 7: VISUALIZE RESULTS\n",
    "# ============================\n",
    "\n",
    "# Plot training loss\n",
    "plt.figure(figsize=(8, 5))\n",
    "plt.plot(train_losses, label=\"Training Loss\")\n",
    "plt.xlabel(\"Epochs\")\n",
    "plt.ylabel(\"Loss\")\n",
    "plt.title(\"Training Loss Evolution\")\n",
    "plt.legend()\n",
    "plt.grid()\n",
    "plt.show()\n",
    "\n",
    "# Plot likelihood ratio distribution\n",
    "plt.figure(figsize=(8, 5))\n",
    "plt.hist(s_test, bins=50, alpha=0.7, color=\"blue\", label=\"Log-Likelihood Ratio\")\n",
    "plt.xlabel(\"R(x)\")\n",
    "plt.ylabel(\"Frequency\")\n",
    "plt.legend()\n",
    "plt.title(\"Distribution of Likelihood Ratio\")\n",
    "plt.grid()\n",
    "plt.show()\n",
    "\n",
    "print(\"Likelihood Ratio Computation Complete ✅\")"
   ]
  },
  {
   "cell_type": "code",
   "execution_count": 63,
   "id": "6cf8f631-80ad-474d-8f22-634e9d6b920c",
   "metadata": {},
   "outputs": [
    {
     "data": {
      "text/plain": [
       "array([[0.0000000e+00],\n",
       "       [1.6689329e-06],\n",
       "       [5.9604999e-06],\n",
       "       ...,\n",
       "       [0.0000000e+00],\n",
       "       [0.0000000e+00],\n",
       "       [9.8630452e-01]], dtype=float32)"
      ]
     },
     "execution_count": 63,
     "metadata": {},
     "output_type": "execute_result"
    }
   ],
   "source": [
    "likelihood_ratio_test"
   ]
  },
  {
   "cell_type": "code",
   "execution_count": 67,
   "id": "ad07ebe9-2f74-4f07-a20f-63933623b525",
   "metadata": {},
   "outputs": [
    {
     "data": {
      "text/plain": [
       "array([[1.        ],\n",
       "       [0.99999833],\n",
       "       [0.99999404],\n",
       "       [0.5034475 ],\n",
       "       [1.        ],\n",
       "       [0.5034475 ],\n",
       "       [0.9999963 ],\n",
       "       [0.5034475 ],\n",
       "       [1.        ],\n",
       "       [0.5034475 ],\n",
       "       [0.5034475 ],\n",
       "       [1.        ],\n",
       "       [0.9999994 ],\n",
       "       [0.9999962 ],\n",
       "       [0.99999714],\n",
       "       [0.9999994 ],\n",
       "       [1.        ],\n",
       "       [0.5034475 ],\n",
       "       [0.9999937 ],\n",
       "       [0.5034475 ]], dtype=float32)"
      ]
     },
     "execution_count": 67,
     "metadata": {},
     "output_type": "execute_result"
    }
   ],
   "source": [
    "s_test[:20]"
   ]
  },
  {
   "cell_type": "code",
   "execution_count": null,
   "id": "f845ec8a-974b-4d77-b30f-f150b6266a79",
   "metadata": {},
   "outputs": [],
   "source": []
  }
 ],
 "metadata": {
  "kernelspec": {
   "display_name": "Python3 kernel (default)",
   "language": "python",
   "name": "python3"
  },
  "language_info": {
   "codemirror_mode": {
    "name": "ipython",
    "version": 3
   },
   "file_extension": ".py",
   "mimetype": "text/x-python",
   "name": "python",
   "nbconvert_exporter": "python",
   "pygments_lexer": "ipython3",
   "version": "3.10.10"
  }
 },
 "nbformat": 4,
 "nbformat_minor": 5
}
